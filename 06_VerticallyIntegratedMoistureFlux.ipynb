{
 "cells": [
  {
   "cell_type": "markdown",
   "metadata": {},
   "source": [
    "# 06_Vertical Integrated Moisture Transport"
   ]
  },
  {
   "cell_type": "markdown",
   "metadata": {},
   "source": [
    "In this chapter, we aim to diplay moisture transports over the globe. As we will see, we can plot the integrated moisture transport in a similar way as a windfield!"
   ]
  },
  {
   "cell_type": "markdown",
   "metadata": {},
   "source": [
    "## 06_01 Background\n"
   ]
  },
  {
   "cell_type": "markdown",
   "metadata": {},
   "source": [
    "The essence of the overall hydrological cycle is the evaporation of moisture ($E$) in one place and the precipitation in other places ($P$). In particular, evaporation exceeds precipitation over the oceans, which allows moisture to be transported by the atmosphere onto land where precipitation exceeds evapotranspiration, and the runoff flows into streams and rivers and discharges into the ocean, completing the cycle (Trenberth et al., 2011).\n"
   ]
  },
  {
   "cell_type": "markdown",
   "metadata": {},
   "source": [
    "This cycle can be expressed in a equation. The atmospheric conservation of moisture equation when vertically integrated in flux form is"
   ]
  },
  {
   "cell_type": "markdown",
   "metadata": {},
   "source": [
    "$$\\frac{\\partial w}{\\partial t}+ \\nabla\\cdot\\frac{1}{g}\\int_{0}^{p_s} vq  dp = E - P$$ "
   ]
  },
  {
   "cell_type": "markdown",
   "metadata": {},
   "source": [
    "Where $q$ is the specific humidity, $v$ the horizontal wind vector, $w = g^{-1}\\int_{0}^{p_s}qdp$ is the precipitable water (total column water vapor), $E$ is the surface evaporation, and $P$ is the net surface precipitation rate.\n",
    "\n",
    "The second term on the left hand side of the equation is the divergence of the vertical integrated moisture flux. \n",
    "Areas for which there is an excess of evaporation over precipitation ($E − P > 0$) are moisture source regions over which the atmospheric moisture fluxes diverge (divergence term >0), and other areas, where moisture fluxes converge, are moisture sink regions.\n",
    "\n",
    "The local change of the total column water vapor is therefore dependent on the local precipitation, evaporation and the moisture flux which transports moisture from neigbouring columns into the respective column."
   ]
  },
  {
   "cell_type": "markdown",
   "metadata": {},
   "source": [
    "To illustrate, how moisture is tranported on our globe and where it origins, we can either plot the integrated moisture flux or its divergence. The divergence will show us the sink and source regions of moisture as explained above.Let's have a quick look at the integrated moisture flux itself:\n",
    "\n",
    "$\\frac{1}{g}\\int_{0}^{p_s} vq  dp$\n",
    "\n",
    "A flux generally consists of the transported quantity, in this case the specific humidity $q$ in [kg/kg] and a velocity, in this case $v$. Integrated from the TOA @ 0 Pa to the surface @ $p_s$ and multplied with $g$, we get the unit $Pa \\cdot m s^{-1}\\cdot s^2 m^{-1}$, which gives $kg m^{-1}s^{-1}$ on the whole. "
   ]
  },
  {
   "cell_type": "markdown",
   "metadata": {},
   "source": [
    "## 06_02 The Data"
   ]
  },
  {
   "cell_type": "markdown",
   "metadata": {},
   "source": [
    "Let's load the data of vertical integrated moisture fluxes and have a closer look at it:"
   ]
  },
  {
   "cell_type": "code",
   "execution_count": null,
   "metadata": {},
   "outputs": [],
   "source": [
    "# Display the plots in the notebook:\n",
    "%matplotlib inline"
   ]
  },
  {
   "cell_type": "code",
   "execution_count": null,
   "metadata": {},
   "outputs": [],
   "source": [
    "# Import the tools we are going to need today:\n",
    "import matplotlib.pyplot as plt  # plotting library\n",
    "import numpy as np  # numerical library\n",
    "import xarray as xr  # netCDF library\n",
    "import cartopy  # Map projections libary\n",
    "import cartopy.crs as ccrs  # Projections list\n",
    "# Some defaults:\n",
    "plt.rcParams['figure.figsize'] = (12, 5)  # Default plot size\n",
    "np.set_printoptions(threshold=20)  # avoid to print very large arrays on screen\n",
    "# The commands below are to ignore certain warnings.\n",
    "import warnings\n",
    "warnings.filterwarnings('ignore')"
   ]
  },
  {
   "cell_type": "code",
   "execution_count": null,
   "metadata": {},
   "outputs": [],
   "source": [
    "ds = xr.open_dataset('./data/ERA5-LowRes-MonthlyAvg-VertIntegratedMoistureFlux.nc')"
   ]
  },
  {
   "cell_type": "code",
   "execution_count": null,
   "metadata": {},
   "outputs": [],
   "source": [
    "ds = ds.rename({\"p71.162_0001\" : \"EMT\", \"p72.162_0001\":\"NMT\"})"
   ]
  },
  {
   "cell_type": "code",
   "execution_count": null,
   "metadata": {},
   "outputs": [],
   "source": [
    "ds.EMT"
   ]
  },
  {
   "cell_type": "markdown",
   "metadata": {},
   "source": [
    "As expected, the unit of the integrated water vapour flux is $kg m^{-1}s^{-1}$! \n",
    "We have a variable for the eastward transport and one for the northward transport of water vapour with $u$, the zonal wind or $v$, the meridional wind respectively. This is pretty similar to having $u$ and $v$ as the vector components of the horizontal windfield. Hence, we can take the eastward and northward vertical integral of water vapour flux as the vector components of the integrated water vapour flux field! \n",
    "\n",
    "We can plot this field as a vectorfield; this is shown below."
   ]
  },
  {
   "cell_type": "markdown",
   "metadata": {},
   "source": [
    "## 06_03 How to Plot it"
   ]
  },
  {
   "cell_type": "markdown",
   "metadata": {},
   "source": [
    "### 06_03_01 Vertical Integral of  Water Vapour Flux"
   ]
  },
  {
   "cell_type": "markdown",
   "metadata": {},
   "source": [
    "Similar to when we plotted the windfield, we start by averaging over the months of the year and selecting a specific month (january)."
   ]
  },
  {
   "cell_type": "code",
   "execution_count": null,
   "metadata": {},
   "outputs": [],
   "source": [
    "emt = ds.EMT.groupby('time.month').mean(dim = 'time').sel(month=1).load()\n",
    "nmt = ds.NMT.groupby('time.month').mean(dim = 'time').sel(month=1).load()"
   ]
  },
  {
   "cell_type": "markdown",
   "metadata": {},
   "source": [
    "Now plot the vectorfield with `quiver`:"
   ]
  },
  {
   "cell_type": "code",
   "execution_count": null,
   "metadata": {},
   "outputs": [],
   "source": [
    "ax = plt.axes(projection=ccrs.PlateCarree())  \n",
    "e, n = emt[::10,::10], nmt[::10,::10] #read 05_PlotWindData for explanations on this!\n",
    "qv = ax.quiver(e.longitude, e.latitude, e, n, transform=ccrs.PlateCarree())\n",
    "ax.coastlines(color='grey');\n",
    "ax.set_title('Average Integrated Water Vapour Flux January [$kg m^{-1} s^{-1}$]');"
   ]
  },
  {
   "cell_type": "markdown",
   "metadata": {},
   "source": [
    "As expected and mentioned above, the oceans are a source of water vapour and therfore a region where the water vapour flux diverges!"
   ]
  },
  {
   "cell_type": "markdown",
   "metadata": {},
   "source": [
    "Again, we lack a discriptive information about the values of the depicted arrows. We can plot this as a shaded colour plot in the background.\n",
    "\n",
    "Therefore, we must first determine the absolute values of the vectors:"
   ]
  },
  {
   "cell_type": "code",
   "execution_count": null,
   "metadata": {},
   "outputs": [],
   "source": [
    "av = np.sqrt(emt**2+nmt**2)\n",
    "av"
   ]
  },
  {
   "cell_type": "markdown",
   "metadata": {},
   "source": [
    "And now plot it:"
   ]
  },
  {
   "cell_type": "code",
   "execution_count": null,
   "metadata": {
    "scrolled": true
   },
   "outputs": [],
   "source": [
    "ax = plt.axes(projection=ccrs.PlateCarree())  \n",
    "av.plot.contourf(ax=ax, transform=ccrs.PlateCarree(), levels = 10, cmap='cool', cbar_kwargs={'label':'Water Vapour Flux [$kg m^{-1} s^{-1}$]'});\n",
    "e, n = emt[::10,::10], nmt[::10,::10]\n",
    "qv = ax.quiver(e.longitude, e.latitude, e, n, transform=ccrs.PlateCarree())\n",
    "ax.coastlines(color='grey');\n",
    "ax.set_title('Average Integrated Water Vapour Flux January');"
   ]
  },
  {
   "cell_type": "markdown",
   "metadata": {},
   "source": [
    "We can also plot one of the vector components of the flux field in a 1D-plot! E.g. the northward water vapour flux, which is proportional to the energy transported by the latent heat flux. Values greater than zero indicate a northward transport, values smaller than zero a southward transport of water vapour and therefore latent heat."
   ]
  },
  {
   "cell_type": "code",
   "execution_count": null,
   "metadata": {
    "scrolled": true
   },
   "outputs": [],
   "source": [
    "nmt_zonal = ds.NMT.mean(dim = ['time', 'longitude'])\n",
    "nmt_zonal.plot()\n",
    "plt.xlim(-90, 90) # defines the limits on the x-axis\n",
    "plt.title('Vertical integral of northward water vapour flux') # plots your title\n",
    "plt.ylabel('[kg $m^{-1}s^{-1}$]'); # changes the y-label from the default label to the one you want\n",
    "plt.xlabel('Latitude [° North]');\n",
    "plt.xticks((-90, -60, -30, 0, 30, 60, 90));\n",
    "plt.axhline(0, color = 'k');\n",
    "plt.grid(linestyle = '-.')"
   ]
  },
  {
   "cell_type": "markdown",
   "metadata": {},
   "source": [
    "### 06_03_02 Vertical integral of divergence of water vapour flux"
   ]
  },
  {
   "cell_type": "markdown",
   "metadata": {},
   "source": [
    "We can also plot the divergence of the flux we plotted above. Let's load the data first:"
   ]
  },
  {
   "cell_type": "code",
   "execution_count": null,
   "metadata": {
    "scrolled": true
   },
   "outputs": [],
   "source": [
    "ds = xr.open_dataset('./data/ERA5-LowRes-MonthlyAvg-VertIntDivMoistFlux.nc')\n",
    "ds = ds.rename({\"p84.162\" : \"div\"})\n",
    "ds.div"
   ]
  },
  {
   "cell_type": "markdown",
   "metadata": {},
   "source": [
    "Since it is a divergence of the moisture flux field, the unit changes from $kg m^{-1}s^{-1}$ to $kg m^{-2}s^{-1}$. We can transform this unit into $mm/day$ by multiplying it with $24\\cdot60\\cdot60$, the seconds of a day! This is a more intuitiv unit.\n",
    "\n",
    "Let's do this and then plot it:"
   ]
  },
  {
   "cell_type": "code",
   "execution_count": null,
   "metadata": {},
   "outputs": [],
   "source": [
    "div_jan = ds.div.groupby('time.month').mean(dim = 'time').sel(month = 1)\n",
    "div_jan = div_jan *24*60*60\n",
    "ax = plt.axes(projection=ccrs.Robinson())\n",
    "div_jan.plot(ax=ax, transform=ccrs.PlateCarree(), levels = np.arange(-8, 8, 2),vmin = -8, vmax= 8, cmap = 'cool', \n",
    "             cbar_kwargs={'label': '$mm/day$'}) \n",
    "ax.set_title('Averaged Vertical integral of divergence of moisture flux January')\n",
    "ax.coastlines(); ax.gridlines();"
   ]
  },
  {
   "cell_type": "markdown",
   "metadata": {},
   "source": [
    "The major source regions for atmospheric moisture can be identified in the subtropical anticyclones, and major sink regions in the convergence zones and summer monsoon rains (Trenberth et al., 2011). Trenberth furhtermore states, that the tendency term $\\frac{\\partial w}{\\partial t}$ is very small for time averages. Therefore, one can take the divergence of the moisture flux as proportional to $E-P$. "
   ]
  }
 ],
 "metadata": {
  "kernelspec": {
   "display_name": "Python 3",
   "language": "python",
   "name": "python3"
  },
  "language_info": {
   "codemirror_mode": {
    "name": "ipython",
    "version": 3
   },
   "file_extension": ".py",
   "mimetype": "text/x-python",
   "name": "python",
   "nbconvert_exporter": "python",
   "pygments_lexer": "ipython3",
   "version": "3.6.6"
  }
 },
 "nbformat": 4,
 "nbformat_minor": 2
}
