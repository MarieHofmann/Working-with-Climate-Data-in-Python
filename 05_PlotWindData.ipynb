{
 "cells": [
  {
   "cell_type": "markdown",
   "metadata": {},
   "source": [
    "# 05 How to Plot Winddata"
   ]
  },
  {
   "cell_type": "markdown",
   "metadata": {},
   "source": [
    "This chapter is all about plotting wind data. First we will deal with 10m winds in x- and y-direction and second we will have a look at 4D-data: wind at different heights!\n",
    "\n",
    "The very first, we import our modules and have some presettings again:"
   ]
  },
  {
   "cell_type": "code",
   "execution_count": null,
   "metadata": {},
   "outputs": [],
   "source": [
    "# Display the plots in the notebook:\n",
    "%matplotlib inline"
   ]
  },
  {
   "cell_type": "code",
   "execution_count": null,
   "metadata": {},
   "outputs": [],
   "source": [
    "# Import the tools we are going to need today:\n",
    "import matplotlib.pyplot as plt  # plotting library\n",
    "import numpy as np  # numerical library\n",
    "import xarray as xr  # netCDF library\n",
    "import cartopy  # Map projections libary\n",
    "import cartopy.crs as ccrs  # Projections list\n",
    "# Some defaults:\n",
    "plt.rcParams['figure.figsize'] = (12, 5)  # Default plot size\n",
    "np.set_printoptions(threshold=20)  # avoid to print very large arrays on screen\n",
    "# The commands below are to ignore certain warnings.\n",
    "import warnings\n",
    "warnings.filterwarnings('ignore')"
   ]
  },
  {
   "cell_type": "markdown",
   "metadata": {},
   "source": [
    "## 05_01 3D-Data: Surface Winds"
   ]
  },
  {
   "cell_type": "markdown",
   "metadata": {},
   "source": [
    "Get the data:"
   ]
  },
  {
   "cell_type": "code",
   "execution_count": null,
   "metadata": {
    "scrolled": false
   },
   "outputs": [],
   "source": [
    "ds = xr.open_dataset('./data/ERA5_LowRes_Monthly_uvslp_Fabien.nc')\n",
    "print(ds)"
   ]
  },
  {
   "cell_type": "markdown",
   "metadata": {},
   "source": [
    "Let's select a year out of our data and print our variable:"
   ]
  },
  {
   "cell_type": "code",
   "execution_count": null,
   "metadata": {
    "scrolled": true
   },
   "outputs": [],
   "source": [
    "u = ds.u10.sel(time = '2018')\n",
    "u"
   ]
  },
  {
   "cell_type": "markdown",
   "metadata": {},
   "source": [
    "On the second line, you should see something similar to:\n",
    "\n",
    "    [1156800 values with dtype=float32]\n",
    "    \n",
    "As we are going to see, this is a \"trick\" that xarray uses to hide an important information from us: xarray didn't actually read the data! However, as we have seen, xarray is very capable to plot this data or do mathematical operations on them. \n",
    "\n",
    "So why didn't xarray read the data yet? \n",
    "\n",
    "Because it *knows* that we don't need it right away. This feature is called [lazy evaluation](https://en.wikipedia.org/wiki/Lazy_evaluation) in computer sciences. It is extremely useful, as it spares time and memory by loading the data only when really needed."
   ]
  },
  {
   "cell_type": "markdown",
   "metadata": {},
   "source": [
    "In some cases this feature can be undesirable. For example: when reading the data is quite slow. In theses exercises, we are working with data on remote directories, and the data we are using is highly compressed (the size that the data takes on disk is *very* small in comparison to the space it takes in memory). Reading compressed data takes time, and the operations we are going to make below make decompression even slowier.\n",
    "\n",
    "This is why I'll sometimes recommend to do the following:"
   ]
  },
  {
   "cell_type": "code",
   "execution_count": null,
   "metadata": {
    "scrolled": true
   },
   "outputs": [],
   "source": [
    "u = ds.u10.sel(time = '2019').load()\n",
    "u"
   ]
  },
  {
   "cell_type": "markdown",
   "metadata": {},
   "source": [
    "Now we can actually see the data in the form of an array!\n",
    "\n",
    "We are now calculating the **averaged u and v windfields at the 10 m level for the month of January**:"
   ]
  },
  {
   "cell_type": "code",
   "execution_count": null,
   "metadata": {},
   "outputs": [],
   "source": [
    "u = ds.u10.groupby('time.month').mean(dim = 'time').sel(month=1).load()\n",
    "v = ds.v10.groupby('time.month').mean(dim = 'time').sel(month=1).load()"
   ]
  },
  {
   "cell_type": "markdown",
   "metadata": {},
   "source": [
    "### 05_01_01 Quiver Plots"
   ]
  },
  {
   "cell_type": "markdown",
   "metadata": {},
   "source": [
    "One traditional way to plot the wind data is as vector arrows. We can use a function called [quiver(X, Y, U, V)](http://matplotlib.org/api/pyplot_api.html?highlight=quiver#matplotlib.pyplot.quiver) for that. \n",
    "It takes the following arguments: U and V are the arrow data, X and Y set the location of the arrows. You can also add a C argument, that will set the color of the arrows. \n",
    "\n",
    "For example:"
   ]
  },
  {
   "cell_type": "code",
   "execution_count": null,
   "metadata": {
    "scrolled": true
   },
   "outputs": [],
   "source": [
    "ax = plt.axes(projection=ccrs.PlateCarree())  # note that I changed the map projection\n",
    "qv = ax.quiver(u.longitude, u.latitude, u, v, transform=ccrs.PlateCarree())\n",
    "ax.coastlines(color='grey');"
   ]
  },
  {
   "cell_type": "markdown",
   "metadata": {},
   "source": [
    "Well, this does not really look useful. The problem is, that there are too many grid points for the plot to be able to illustrate the data as single arrows. So the solution is, to not use every grid point but e.g. only every 10th!\n",
    "\n",
    "Let's try it:"
   ]
  },
  {
   "cell_type": "code",
   "execution_count": null,
   "metadata": {
    "scrolled": false
   },
   "outputs": [],
   "source": [
    "ax = plt.axes(projection=ccrs.PlateCarree())  \n",
    "pu, pv = u[::9,::9], v[::9,::9]  # we will discuss what this line does in the cells below\n",
    "qv = ax.quiver(pu.longitude, pu.latitude, pu, pv, transform=ccrs.PlateCarree())\n",
    "ax.coastlines(color='grey');\n",
    "pu"
   ]
  },
  {
   "cell_type": "markdown",
   "metadata": {},
   "source": [
    "Note the new syntax in the line ``pu, pv = u[::10,::10], v[::10,::10]``. Let's explain it in detail. the ``::9`` is the Numpy way to index each 9th element of an array. It is called [slicing](http://docs.scipy.org/doc/numpy-1.10.0/reference/arrays.indexing.html#basic-slicing-and-indexing) in the numpy jargon. We already learned how to slice with a slice object!\n",
    "\n",
    "The `start:stop:step` syntax is actually creating such a python slice object too. So it is just a more convenient way, to do slicing in python.\n",
    "Above, `start` and `stop` were not defined. That means: take the whole array, from the start until the end!\n",
    "\n",
    "\n",
    "Let's try this new form of slicing on a simpler array:"
   ]
  },
  {
   "cell_type": "code",
   "execution_count": null,
   "metadata": {
    "scrolled": false
   },
   "outputs": [],
   "source": [
    "a = np.arange(11)\n",
    "print(a)"
   ]
  },
  {
   "cell_type": "markdown",
   "metadata": {},
   "source": [
    "Underneath there will be some different slicings, each explained right next to the command."
   ]
  },
  {
   "cell_type": "code",
   "execution_count": null,
   "metadata": {},
   "outputs": [],
   "source": [
    "a[:] #takes all elements of the array"
   ]
  },
  {
   "cell_type": "code",
   "execution_count": null,
   "metadata": {},
   "outputs": [],
   "source": [
    "a[2:] #takes the elements from the second one until the end. Neither the stop nor the step value are defined, \n",
    "      # so python will assume you want the data until the end of the array in steps of one (default)"
   ]
  },
  {
   "cell_type": "code",
   "execution_count": null,
   "metadata": {},
   "outputs": [],
   "source": [
    "a[:-1] #takes all the elements from the start until the second last one: -1 means the end of the array -1"
   ]
  },
  {
   "cell_type": "code",
   "execution_count": null,
   "metadata": {},
   "outputs": [],
   "source": [
    "a[2:5] #start from the third element (remember: in python the firs element is number 0!) and take every element until \n",
    "       #the fourth (remember: in python the stop index is excluded!)"
   ]
  },
  {
   "cell_type": "code",
   "execution_count": null,
   "metadata": {
    "scrolled": true
   },
   "outputs": [],
   "source": [
    "a[::-1] #take all elements of the array, the step value is minus one which means: step trough them backwards!\n",
    "        # --> we get the reversed array"
   ]
  },
  {
   "cell_type": "code",
   "execution_count": null,
   "metadata": {},
   "outputs": [],
   "source": [
    "a[::-2] #same as above but only take every second element. --> reversed array with every second element"
   ]
  },
  {
   "cell_type": "markdown",
   "metadata": {},
   "source": [
    "OK, so that was slincing in one dimensions. Slicing also works in N-dimensions. For example:"
   ]
  },
  {
   "cell_type": "code",
   "execution_count": null,
   "metadata": {
    "scrolled": true
   },
   "outputs": [],
   "source": [
    "a = np.arange(4*5).reshape((4, 5)) #don't worry about how we created this array, it does not matter for us now\n",
    "print(a)"
   ]
  },
  {
   "cell_type": "code",
   "execution_count": null,
   "metadata": {},
   "outputs": [],
   "source": [
    "a[:,::-1] # the first slice corresponds to the columns, the second one to the rows!"
   ]
  },
  {
   "cell_type": "code",
   "execution_count": null,
   "metadata": {},
   "outputs": [],
   "source": [
    "a[::2,::2]"
   ]
  },
  {
   "cell_type": "markdown",
   "metadata": {},
   "source": [
    "OK, that was slicing in two dimensions, so we now better understand what ``u[::9,::9]`` means. But what was about that comma in between? This is simply what people call \"syntaxic sugar\", a nice and easy way to write one line in two: "
   ]
  },
  {
   "cell_type": "code",
   "execution_count": null,
   "metadata": {},
   "outputs": [],
   "source": [
    "a, b = 12, 'Hello'\n",
    "print(a)\n",
    "print(b)"
   ]
  },
  {
   "cell_type": "markdown",
   "metadata": {},
   "source": [
    "This kind of shortcuts should be used only if:\n",
    "- the lines of code are easy\n",
    "- the two variables are somehow related (for example u and v winds)\n",
    "\n",
    "We can now try some different slicing for our quiver plot:"
   ]
  },
  {
   "cell_type": "code",
   "execution_count": null,
   "metadata": {},
   "outputs": [],
   "source": [
    "ax = plt.axes(projection=ccrs.PlateCarree())  \n",
    "pu, pv = u[::5,::5], v[::5,::5]\n",
    "qv = ax.quiver(pu.longitude, pu.latitude, pu, pv, transform=ccrs.PlateCarree())\n",
    "ax.coastlines(color='grey');"
   ]
  },
  {
   "cell_type": "code",
   "execution_count": null,
   "metadata": {
    "scrolled": true
   },
   "outputs": [],
   "source": [
    "ax = plt.axes(projection=ccrs.PlateCarree())  \n",
    "pu, pv = u[::15,::15], v[::15,::15]\n",
    "qv = ax.quiver(pu.longitude, pu.latitude, pu, pv, transform=ccrs.PlateCarree())\n",
    "ax.coastlines(color='grey');"
   ]
  },
  {
   "cell_type": "markdown",
   "metadata": {},
   "source": [
    "Or change the color of our arrows:"
   ]
  },
  {
   "cell_type": "code",
   "execution_count": null,
   "metadata": {
    "scrolled": true
   },
   "outputs": [],
   "source": [
    "ax = plt.axes(projection=ccrs.PlateCarree())  \n",
    "pu, pv = u[::10,::10], v[::10,::10]\n",
    "qv = ax.quiver(pu.longitude, pu.latitude, pu, pv, color = 'r', transform=ccrs.PlateCarree())\n",
    "ax.coastlines(color='grey');"
   ]
  },
  {
   "cell_type": "markdown",
   "metadata": {},
   "source": [
    "It seems reasonable, to somehow better visualize the windspeed than just by the length of the arrows. We can for example plot the wind speed as a shaded color plot (as we did for temperature and precipitation) and plot the wind arrows on top of it.! \n",
    "\n",
    "Therefore, we must first determine the windspeed:"
   ]
  },
  {
   "cell_type": "code",
   "execution_count": null,
   "metadata": {},
   "outputs": [],
   "source": [
    "ws = (u**2 + v**2)**0.5"
   ]
  },
  {
   "cell_type": "markdown",
   "metadata": {},
   "source": [
    "Now plot the windspeed first and on top of it the arrows:"
   ]
  },
  {
   "cell_type": "code",
   "execution_count": null,
   "metadata": {
    "scrolled": true
   },
   "outputs": [],
   "source": [
    "ax = plt.axes(projection=ccrs.PlateCarree())  \n",
    "ws.plot.contourf(ax=ax, transform=ccrs.PlateCarree(), cmap='cool', levels=np.arange(0, 15), cbar_kwargs={'label':'Windspeed [m/s]'});\n",
    "pu, pv = u[::10,::10], v[::10,::10]\n",
    "qv = ax.quiver(pu.longitude, pu.latitude, pu, pv, transform=ccrs.PlateCarree())\n",
    "ax.coastlines();\n",
    "ax.set_title('Average Wind and Windspeed January');"
   ]
  },
  {
   "cell_type": "markdown",
   "metadata": {},
   "source": [
    "### 05_01_02 Streamline Plots"
   ]
  },
  {
   "cell_type": "markdown",
   "metadata": {},
   "source": [
    "Another way to plot wind data are the so called [streamlines](http://matplotlib.org/api/pyplot_api.html?highlight=streamplot#matplotlib.pyplot.streamplot):"
   ]
  },
  {
   "cell_type": "code",
   "execution_count": null,
   "metadata": {},
   "outputs": [],
   "source": [
    "fig = plt.figure('figsize', [12,5])\n",
    "ax = plt.axes(projection=ccrs.PlateCarree())\n",
    "ax.streamplot(u.longitude, u.latitude, u.values, v.values, transform=ccrs.PlateCarree(), density=4)\n",
    "ax.coastlines(color='grey');"
   ]
  },
  {
   "cell_type": "markdown",
   "metadata": {},
   "source": [
    "The `u.values` syntax extracts the actual u values as a Numpy NdArray from the XArray DataArray! That is what we need as an argument for the streamplot function!"
   ]
  },
  {
   "cell_type": "code",
   "execution_count": null,
   "metadata": {},
   "outputs": [],
   "source": [
    "u.values"
   ]
  },
  {
   "cell_type": "code",
   "execution_count": null,
   "metadata": {},
   "outputs": [],
   "source": [
    "type(u.values)"
   ]
  },
  {
   "cell_type": "markdown",
   "metadata": {},
   "source": [
    "**Note**: if the above plot was too slow for your taste, you can slice your data like we did for the quiver plot, this will produce the plot faster. Anyway, this does not have any impact on the denseness of the streamlines!\n",
    "\n",
    "For example:"
   ]
  },
  {
   "cell_type": "code",
   "execution_count": null,
   "metadata": {},
   "outputs": [],
   "source": [
    "pu, pv = u[::10,::10], v[::10,::10]\n",
    "ax = plt.axes(projection=ccrs.PlateCarree())\n",
    "ax.streamplot(pu.longitude, pu.latitude, pu.values, pv.values, transform=ccrs.PlateCarree(), density=4)\n",
    "ax.coastlines(color='grey');"
   ]
  },
  {
   "cell_type": "markdown",
   "metadata": {},
   "source": [
    "By changing the `density` argument, you can control the closeness of streamlines. The deault value is density = 1.\n",
    "Let's try it:"
   ]
  },
  {
   "cell_type": "code",
   "execution_count": null,
   "metadata": {
    "scrolled": true
   },
   "outputs": [],
   "source": [
    "ax = plt.axes(projection=ccrs.PlateCarree())\n",
    "ax.streamplot(u.longitude, u.latitude, u.values, v.values, transform=ccrs.PlateCarree(), density=2)\n",
    "ax.coastlines(color='grey');"
   ]
  },
  {
   "cell_type": "markdown",
   "metadata": {},
   "source": [
    "You can also vary the linewidth of the streamlines by specifying the argument `linewidth`. You can either set it to a numeric or a 2D-array. "
   ]
  },
  {
   "cell_type": "code",
   "execution_count": null,
   "metadata": {},
   "outputs": [],
   "source": [
    "ax = plt.axes(projection=ccrs.PlateCarree())\n",
    "strm = ax.streamplot(u.longitude, u.latitude, u.values, v.values, transform=ccrs.PlateCarree(),\n",
    "                     density=2, linewidth = 3)\n",
    "ax.coastlines(color='grey'); ax.gridlines(draw_labels=True);"
   ]
  },
  {
   "cell_type": "code",
   "execution_count": null,
   "metadata": {
    "scrolled": true
   },
   "outputs": [],
   "source": [
    "ax = plt.axes(projection=ccrs.PlateCarree())\n",
    "strm = ax.streamplot(u.longitude, u.latitude, u.values, v.values, transform=ccrs.PlateCarree(),\n",
    "                     density=5, linewidth = 0.5)\n",
    "ax.coastlines(color='grey'); ax.gridlines(draw_labels=True);"
   ]
  },
  {
   "cell_type": "markdown",
   "metadata": {},
   "source": [
    "A problem with streamlines is that they provide no information about the strength of the flow. Again, it is possible to display this information with colors. Just define the `color` argument as the windspeed array `ws` we already created further up! In order to make this work, we again have to use `ws.values`, since color wants a Numpy Array and not a DataArray as input."
   ]
  },
  {
   "cell_type": "code",
   "execution_count": null,
   "metadata": {},
   "outputs": [],
   "source": [
    "ax = plt.axes(projection=ccrs.PlateCarree())\n",
    "strm = ax.streamplot(u.longitude, u.latitude, u.values, v.values, transform=ccrs.PlateCarree(),\n",
    "                     density=4, color=ws.values, cmap='cool')\n",
    "bar = plt.colorbar(strm.lines) # add a colorbar defined by the lines of the streamplot (strm.lines)\n",
    "bar.set_label('Windspeed [m/s]') #give a label to the colorbar\n",
    "ax.coastlines(color='grey'); ax.gridlines(draw_labels=True);"
   ]
  },
  {
   "cell_type": "markdown",
   "metadata": {},
   "source": [
    "### 05_01_03 1D-Plots"
   ]
  },
  {
   "cell_type": "markdown",
   "metadata": {},
   "source": [
    "We can also display wind data in a 1D-Plot rather than in a 2D one as the above examples. A possible and useful form of representation would be the zonal average of the meridional and the zonal 10m winds:"
   ]
  },
  {
   "cell_type": "code",
   "execution_count": null,
   "metadata": {
    "scrolled": false
   },
   "outputs": [],
   "source": [
    "ds.u10.mean(dim=['time', 'longitude']).plot();\n",
    "plt.axhline(0, color='k');\n",
    "plt.xlim([-90, 90]);\n",
    "plt.title('Zonal Wind at 10m');\n",
    "plt.ylabel('m s$^{-1}$');\n",
    "plt.xlabel('° North');\n",
    "plt.figure();\n",
    "ds.v10.mean(dim=['time', 'longitude']).plot();\n",
    "plt.axhline(0, color='k');\n",
    "plt.xlim([-90, 90]);\n",
    "plt.title('Meridional Wind at 10m');\n",
    "plt.ylabel('m s$^-1$');\n",
    "plt.xlabel('° North');"
   ]
  },
  {
   "cell_type": "markdown",
   "metadata": {},
   "source": [
    "We encounter a new syntax in the above commands: `plt.ylabel('m s$^{-1}$')`. What do those dollar signs mean? \n",
    "\n",
    "In matplotlib, one can write [**mathematical expressions**](https://matplotlib.org/3.1.1/tutorials/text/mathtext.html) by using dollar signs as a wrapper of the expressions. Everything that is written in between of two $-signs is recognised as a mathematical expression by matplotlib.\n",
    "\n",
    "* To make subscripts and superscripts, you can use the `_` and `^` symbols. In the above example, we used `^` to create a superscript of -1. \n",
    "* Radicals can be produced with the `\\sqrt[]{}` command. For example: `\\sqrt{2}`. Any base can optionally be provided inside the square brackets. \n",
    "* Look at the webpage above, to get to know more. E.g. how to write mathematical symbols or greek letters."
   ]
  },
  {
   "cell_type": "markdown",
   "metadata": {},
   "source": [
    "As another example, we can plot the monthly means of the windspeed for the year 2018 at the location of Innsbruck:"
   ]
  },
  {
   "cell_type": "code",
   "execution_count": null,
   "metadata": {
    "scrolled": true
   },
   "outputs": [],
   "source": [
    "u10_ibk_18 = ds.u10.sel(latitude = 47.25, longitude = 11.25, time = '2018') #select Innsbruck and year 2018\n",
    "v10_ibk_18 = ds.v10.sel(latitude = 47.25, longitude = 11.25, time = '2018') #select Innsbruck and year 2018\n",
    "ws_ibk_18 = ws = (u10_ibk_18**2 + v10_ibk_18**2)**0.5 #compute windspeed for Innsbruck 2018\n",
    "\n",
    "ax = ws_ibk_18.plot();\n",
    "plt.title('Windspeed 2018 @ 47.25°North, 11.25°East ');\n",
    "plt.ylabel('m s$^{-1}$');\n",
    "plt.xlabel('');\n",
    "plt.xlim(['2018-01','2018-12']);"
   ]
  },
  {
   "cell_type": "markdown",
   "metadata": {},
   "source": [
    "## 05_02 4D-Data: Wind at different pressure levels"
   ]
  },
  {
   "cell_type": "markdown",
   "metadata": {},
   "source": [
    "We will now deal with a new kind of dataset: 4D-Data. Let's open such a dataset and see what it looks like:"
   ]
  },
  {
   "cell_type": "code",
   "execution_count": null,
   "metadata": {
    "scrolled": true
   },
   "outputs": [],
   "source": [
    "ds = xr.open_dataset('./data/ERA5_LowRes_MonthlyAvg_4D_zuvw_Fabien.nc')\n",
    "ds"
   ]
  },
  {
   "cell_type": "markdown",
   "metadata": {},
   "source": [
    "We have a new coordinate axis: level! Those are the different pressure levels, at which wind data (u,v,w) and height data (z) is available."
   ]
  },
  {
   "cell_type": "code",
   "execution_count": null,
   "metadata": {},
   "outputs": [],
   "source": [
    "ds.level"
   ]
  },
  {
   "cell_type": "markdown",
   "metadata": {},
   "source": [
    "The data is available at the pressure levels 50, 100, 200, 300, 400, 500, 700, 850 and 1000 millibars. Millibars are equivalent to hectopascal. \n",
    "\n",
    "We can use this new data, to plot the height- (= pressure-) dependency of the horizontal as well as the vertical windfields! Before we do this, let's have a quick look at our variables: u, v, w, and z."
   ]
  },
  {
   "cell_type": "code",
   "execution_count": null,
   "metadata": {
    "scrolled": true
   },
   "outputs": [],
   "source": [
    "ds.u"
   ]
  },
  {
   "cell_type": "code",
   "execution_count": null,
   "metadata": {
    "scrolled": false
   },
   "outputs": [],
   "source": [
    "ds.z # this is the geopotential! get the geopotential height by dividing by g"
   ]
  },
  {
   "cell_type": "markdown",
   "metadata": {},
   "source": [
    "We notice furthermore, that the time coordinate changed to a **month coordinate**! The data is already grouped by months and averaged."
   ]
  },
  {
   "cell_type": "markdown",
   "metadata": {},
   "source": [
    "### 05_02_01 Vertical Veloctiy"
   ]
  },
  {
   "cell_type": "code",
   "execution_count": null,
   "metadata": {
    "scrolled": true
   },
   "outputs": [],
   "source": [
    "ds.w"
   ]
  },
  {
   "cell_type": "markdown",
   "metadata": {},
   "source": [
    "Let's select southamerica @500 hPa, average over time and plot the vertical veloctiy w:"
   ]
  },
  {
   "cell_type": "code",
   "execution_count": null,
   "metadata": {},
   "outputs": [],
   "source": [
    "ax = plt.axes(projection=ccrs.PlateCarree())\n",
    "w = ds.w.mean(dim='month').sel(level=500, longitude = slice(-80,-20), latitude = slice(20,-60))\n",
    "w.plot(transform = ccrs.PlateCarree() )\n",
    "ax.set_title('500 hPa Mean Vertical Winds')\n",
    "ax.coastlines(color='grey'); ax.gridlines();"
   ]
  },
  {
   "cell_type": "markdown",
   "metadata": {},
   "source": [
    "Sinking air at the upstream side of the andes and rising air at the downstream side? This does not seem very reasonable. We need to change the sign of w!\n"
   ]
  },
  {
   "cell_type": "code",
   "execution_count": null,
   "metadata": {},
   "outputs": [],
   "source": [
    "ax = plt.axes(projection=ccrs.PlateCarree())\n",
    "w = ds.w.mean(dim='month').sel(level=500, longitude = slice(-80,-20), latitude = slice(20,-60))*-1\n",
    "w.plot(transform = ccrs.PlateCarree() )\n",
    "ax.set_title('500 hPa Mean Vertical Winds')\n",
    "ax.coastlines(color='grey'); ax.gridlines();"
   ]
  },
  {
   "cell_type": "markdown",
   "metadata": {},
   "source": [
    "Better.\n",
    "\n",
    "We can now plot the vertical windfield in a different way. One option would be, to take a certain area, average the zonal winds over that area and plot them as a function of the month!\n",
    "\n",
    "E.g. for the African Horn:"
   ]
  },
  {
   "cell_type": "code",
   "execution_count": null,
   "metadata": {},
   "outputs": [],
   "source": [
    "w_horn=ds.w.sel(longitude=slice(40, 52), latitude=slice(15, -5)).mean(dim= ['longitude', 'latitude'])\n",
    "w_horn *= -1\n",
    "plt.figure(figsize=(20,7))\n",
    "w_horn.T.plot.contourf(levels=30, cbar_kwargs={'label':'m s$^{-1}$'})\n",
    "plt.ylim([1000,50])\n",
    "plt.xlim([1,12])\n",
    "plt.yscale('log')\n",
    "plt.title('Vertical Wind distibution over the North- and South-Eastern Horn (40° to 55°E and 5°S to 15°N)');"
   ]
  },
  {
   "cell_type": "markdown",
   "metadata": {},
   "source": [
    "Another option: average over longitude and time and plot the vertical wind as a function of latitude!"
   ]
  },
  {
   "cell_type": "code",
   "execution_count": null,
   "metadata": {
    "scrolled": true
   },
   "outputs": [],
   "source": [
    "w_horn=ds.w.mean(dim= ['longitude', 'month']).sel(latitude = slice(30,-30))\n",
    "w_horn *= -1\n",
    "plt.figure(figsize=(20,7))\n",
    "w_horn.plot.contourf(levels=30, cbar_kwargs={'label':'m s$^{-1}$'})\n",
    "plt.ylim([1000,50])\n",
    "plt.ylabel('Pressure [hPa]')\n",
    "plt.xlabel('Latitude [°N]')\n",
    "plt.yscale('log')\n",
    "plt.title('Mean Vertical Wind Distribution from -30 to 30°N');"
   ]
  },
  {
   "cell_type": "markdown",
   "metadata": {},
   "source": [
    "### 05_02_02 Zonal Average Plots"
   ]
  },
  {
   "cell_type": "markdown",
   "metadata": {},
   "source": [
    "It's pretty easy, to produce a zonal plot of the vertical structure of the atmosphere:"
   ]
  },
  {
   "cell_type": "code",
   "execution_count": null,
   "metadata": {},
   "outputs": [],
   "source": [
    "u_allz = ds.u.sel(month = 1).load() #select average of january\n",
    "u_allz = u_allz.mean(dim='longitude')\n",
    "u_allz"
   ]
  },
  {
   "cell_type": "code",
   "execution_count": null,
   "metadata": {
    "scrolled": true
   },
   "outputs": [],
   "source": [
    "u_allz.plot();"
   ]
  },
  {
   "cell_type": "markdown",
   "metadata": {},
   "source": [
    "We notice, that the y-axis needs to be reversed in order to go from the ground up to the higher atmosphere! Furthermore, the imshow plot does not really look nice. Let's make a contourf plot instead:"
   ]
  },
  {
   "cell_type": "code",
   "execution_count": null,
   "metadata": {
    "scrolled": false
   },
   "outputs": [],
   "source": [
    "u_allz.plot.contourf(levels = np.arange(-45, 45, 5),  cbar_kwargs={'label':'U-wind (m s$^{-1}$)'});\n",
    "plt.ylim([1000, 50]); #reverse the y-axis\n",
    "plt.xlim([-90,90]);\n",
    "plt.ylabel('Pressure [hPa]');\n",
    "plt.title('Average Zonal Winds January');"
   ]
  },
  {
   "cell_type": "markdown",
   "metadata": {},
   "source": [
    "To represent more acurately the real altitude of the winds, a logarithmic scale might be better:"
   ]
  },
  {
   "cell_type": "code",
   "execution_count": null,
   "metadata": {},
   "outputs": [],
   "source": [
    "u_allz.plot.contourf(levels = np.arange(-45, 45, 5),  cbar_kwargs={'label':'U-wind (m s$^{-1}$)'});\n",
    "plt.ylim([50,1000]);\n",
    "plt.xlim([-90,90]);\n",
    "plt.ylabel('Pressure [hPa]');\n",
    "plt.title('Average Zonal Winds January')\n",
    "plt.yscale('log') #change yscale from linear to logarithmic!"
   ]
  },
  {
   "cell_type": "markdown",
   "metadata": {},
   "source": [
    "One can also take a certain area, average the zonal winds over that area and plot them as a function of the month!\n",
    "\n",
    "We try this for the African Horn:"
   ]
  },
  {
   "cell_type": "code",
   "execution_count": null,
   "metadata": {},
   "outputs": [],
   "source": [
    "u_horn=ds.u.sel(longitude=slice(50,70), latitude=slice(12, -3)).mean(dim= ['longitude', 'latitude'])\n",
    "plt.figure(figsize=(20,7))\n",
    "u_horn.T.plot.contourf(levels=30, cbar_kwargs={'label':'m s$^{-1}$'}, cmap = 'PuOr')\n",
    "plt.ylim([1000,50])\n",
    "plt.yscale('log')\n",
    "plt.title('Zonal Wind distibution over the North- and South-Eastern Horn (40° to 55°E and 5°S to 15°N)');"
   ]
  }
 ],
 "metadata": {
  "kernelspec": {
   "display_name": "Python 3",
   "language": "python",
   "name": "python3"
  },
  "language_info": {
   "codemirror_mode": {
    "name": "ipython",
    "version": 3
   },
   "file_extension": ".py",
   "mimetype": "text/x-python",
   "name": "python",
   "nbconvert_exporter": "python",
   "pygments_lexer": "ipython3",
   "version": "3.6.6"
  }
 },
 "nbformat": 4,
 "nbformat_minor": 2
}
