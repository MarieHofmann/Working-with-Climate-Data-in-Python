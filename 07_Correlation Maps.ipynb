{
 "cells": [
  {
   "cell_type": "markdown",
   "metadata": {},
   "source": [
    "# 07_Correlation Maps"
   ]
  },
  {
   "cell_type": "markdown",
   "metadata": {},
   "source": [
    "In this chapter, we will learn how to produce correlation plots in 1D (scatter plots) and 2D (maps). As an example we will take the prominent feature of the North Atlantic Oscillation (NAO).\n",
    "\n",
    "Some word about this phenomena:\n",
    "\n",
    "Over the middle and high latitudes of the Northern Hemisphere, especially during the cold season months(November-April), the most prominent and recurrent pattern of atmospheric variability is the NAO (James Hurrel et al., 2003).  It is a weather phenomenon of fluctuations in the difference of atmospheric pressure at sea level (SLP) between the Icelandic Low and the Azores High. Through fluctuations in the strength of the Icelandic low and the Azores high, it controls the strength and direction of westerly winds and location of storm tracks across the North Atlantic (James Hurrel et al., 2003). It is a perfect example for correlation: in phases of positive NAO+, both the Azores High as well as the Icelandic Low are well pronounced compared to the mean over time. In contrast for phases of NAO-, both are rather weak.\n",
    "\n",
    "See the plots below from Wanner, H., Brönnimann, S., Casty, C., et al. (2001):"
   ]
  },
  {
   "cell_type": "markdown",
   "metadata": {},
   "source": [
    "**NAO+**\n",
    "\n",
    "<img src=\"https://www.dropbox.com/s/1amtd1c5kwuzgtm/wanner_etal_01_naoplus.jpg?dl=1\" width=\"80%\"  align=\"left\">"
   ]
  },
  {
   "cell_type": "markdown",
   "metadata": {},
   "source": [
    "**NAO-**\n",
    "\n",
    "<img src=\"https://www.dropbox.com/s/tiassrtblrryfma/wanner_etal_01_naominus.jpg?dl=1\" width=\"80%\"  align=\"left\">"
   ]
  },
  {
   "cell_type": "code",
   "execution_count": null,
   "metadata": {},
   "outputs": [],
   "source": [
    "# Display the plots in the notebook:\n",
    "%matplotlib inline"
   ]
  },
  {
   "cell_type": "code",
   "execution_count": null,
   "metadata": {},
   "outputs": [],
   "source": [
    "# Import the tools we are going to need today:\n",
    "import matplotlib.pyplot as plt  # plotting library\n",
    "import numpy as np  # numerical library\n",
    "import xarray as xr  # netCDF library\n",
    "import cartopy  # Map projections libary\n",
    "import cartopy.crs as ccrs  # Projections list\n",
    "import pandas as pd  # new package! this is the package at the base of xarray\n",
    "#from eofs.xarray import Eof  # new package! http://ajdawson.github.io/eofs/index.html\n",
    "# Some defaults:\n",
    "plt.rcParams['figure.figsize'] = (12, 5)  # Default plot size\n",
    "np.set_printoptions(threshold=20)  # avoid to print very large arrays on screen\n",
    "# The commands below are to ignore certain warnings.\n",
    "import warnings\n",
    "warnings.filterwarnings('ignore')\n"
   ]
  },
  {
   "cell_type": "markdown",
   "metadata": {},
   "source": [
    "## 07_01 One Point Correlation Maps"
   ]
  },
  {
   "cell_type": "markdown",
   "metadata": {},
   "source": [
    "A one point correlation map correlates a variable all over the globe with the same variable at a specific site.\n",
    "\n",
    "Our aim is now, to correlate the northern hemisphere winter season geopotential @500 hPa to the winter season geopotential on Iceland. We expect a highly negative correlation between Iceland and the Azores! We will first need to load the data:"
   ]
  },
  {
   "cell_type": "code",
   "execution_count": null,
   "metadata": {},
   "outputs": [],
   "source": [
    "geop = xr.open_dataset('./data/ERA5-LowRes-MonthlyAvg-500hPa-UVZ.nc').sel(latitude=slice(90, 20)).z"
   ]
  },
  {
   "cell_type": "markdown",
   "metadata": {},
   "source": [
    "We loaded the dataset, selected the northern hemisphere and the variable z all in on step. See what we got:"
   ]
  },
  {
   "cell_type": "code",
   "execution_count": null,
   "metadata": {
    "scrolled": true
   },
   "outputs": [],
   "source": [
    "geop = xr.open_dataset('./data/ERA5-LowRes-MonthlyAvg-500hPa-UVZ.nc').sel(latitude=slice(90, 20)).z\n",
    "geop"
   ]
  },
  {
   "cell_type": "markdown",
   "metadata": {},
   "source": [
    "Divide this by $9.8$ to get the geopotential height out of the geopotential!"
   ]
  },
  {
   "cell_type": "code",
   "execution_count": null,
   "metadata": {},
   "outputs": [],
   "source": [
    "geop = geop/9.8"
   ]
  },
  {
   "cell_type": "markdown",
   "metadata": {},
   "source": [
    "That worked out well. Next, we need to get the two variables we need for the correlation: we need to select the winter season DJF plus take an average over each season and we need to create another variable, the geopotential of iceland (select lon and lat)."
   ]
  },
  {
   "cell_type": "code",
   "execution_count": null,
   "metadata": {},
   "outputs": [],
   "source": [
    "# create the northern hemisphere variable\n",
    "geop_djf = geop.where(geop['time.season'] == 'DJF') #select winter season since correlation is strongest here\n",
    "geop_djf = geop_djf.groupby('time.year').mean('time') #average over the year (over each season)"
   ]
  },
  {
   "cell_type": "code",
   "execution_count": null,
   "metadata": {
    "scrolled": false
   },
   "outputs": [],
   "source": [
    "# create the iceland variable\n",
    "iceland = geop_djf.sel(latitude=65, longitude=-30, method='nearest') #select the lat & lon coords of iceland\n",
    "iceland"
   ]
  },
  {
   "cell_type": "markdown",
   "metadata": {},
   "source": [
    "What we aim to compute next is the correlation coefficient $r_{X,Y}$ of those two variables: \n",
    "\n",
    "$r_{X,Y} = \\frac{cov(X,Y)}{\\sigma_X\\sigma_Y}$\n",
    "\n",
    "\n",
    "$cov(X,Y) = \\overline{(X-\\overline{X})(Y-\\overline{Y})}$\n",
    "\n",
    "$r_{X,Y}$ can take values between $-1$ and $+1$, where $-1$ means perfect negative correlation and $+1$ perfect positive correlation of the two variables $X$ and $Y$."
   ]
  },
  {
   "cell_type": "markdown",
   "metadata": {},
   "source": [
    "To compute $r_{X,Y}$ of two specific sites is quite easy, since only the time dimension remains and the other coordinates (lat and lon) vanish. There is a special numpy method, that does exactly this: `np.corrcoef(X,Y)`.\n",
    "Let's try this first:"
   ]
  },
  {
   "cell_type": "code",
   "execution_count": null,
   "metadata": {},
   "outputs": [],
   "source": [
    "azores = geop_djf.sel(latitude = 38, longitude = -25.5, method = 'nearest') #select lat,lon of azores\n",
    "r_xy = np.corrcoef(iceland,azores)\n",
    "r_xy"
   ]
  },
  {
   "cell_type": "markdown",
   "metadata": {},
   "source": [
    "The numpy function returns a matrix of the following form:\n",
    "\n",
    "$\\left(\\begin{array}{rr}                                \n",
    "r_{X,X}  &  r_{X,Y}\\\\                                               \n",
    "r_{Y,X}  &  r_{Y,Y} \\\\                                                                                            \n",
    "\\end{array}\\right)$\n",
    "\n",
    "so what we need is the upper right entry of this matrix. We can select it with `[0, 1]`:"
   ]
  },
  {
   "cell_type": "code",
   "execution_count": null,
   "metadata": {},
   "outputs": [],
   "source": [
    "r_xy [0,1] #select first row, second column"
   ]
  },
  {
   "cell_type": "markdown",
   "metadata": {},
   "source": [
    "We can also plot a scatter plot of the geopotential of the azores vs. iceland with `plt.scatter(X,Y)`. We can clearly see the negative correlation in there too:"
   ]
  },
  {
   "cell_type": "code",
   "execution_count": null,
   "metadata": {},
   "outputs": [],
   "source": [
    "plt.scatter(azores, iceland)\n",
    "plt.xlabel('Geopotential Height Azores [m]');\n",
    "plt.ylabel('Geopotential Height Iceland [m]');\n",
    "plt.title('Negative Correlation of Geopotential Height');"
   ]
  },
  {
   "cell_type": "markdown",
   "metadata": {},
   "source": [
    "From this, we can already conclude that the icelandic low and the azores high are correlated. Still, a map would be more appealing to see which regions correlate and which do not. Therefore, we must compute the correlation coefficient for each grid point on the northern hemisphere. We can do this by two so called **for loops**!\n",
    "\n",
    "What is a for loop?\n",
    "\n",
    "A loop is a tool in programming, to repeat the same command for different variables with only one time writing the command itself. A for loop iterates over those variables. Let's try it on an example:\n"
   ]
  },
  {
   "cell_type": "code",
   "execution_count": null,
   "metadata": {},
   "outputs": [],
   "source": [
    "for i in list([1,2,3,4,5]): \n",
    "    print(i)"
   ]
  },
  {
   "cell_type": "markdown",
   "metadata": {},
   "source": [
    "The for loop picks the i'th value out of the list, starting at $i=0$. Next, the command inside the for loop is executed: the ith list value (in this case 1) is printed. Next the for loop iteration selects $i=1$ and the execution of the print command prints 2, and so on until the end of the list is reached.\n",
    "We can now also generate a nested set of two for loops:\n"
   ]
  },
  {
   "cell_type": "code",
   "execution_count": null,
   "metadata": {},
   "outputs": [],
   "source": [
    "for i in list([1,2,3,4,5]):\n",
    "    for j in list([6,7,8,9,10]):\n",
    "        print(i,j)\n",
    "        "
   ]
  },
  {
   "cell_type": "markdown",
   "metadata": {},
   "source": [
    "We start with $i=0$, so $1$ is printed. The $i$ value stays constant, while we loop through all the $j$ values! Once the j-loop is completed, $i$ is set to $1$ (the second value of the list is printed: $2$).\n",
    "\n",
    "That's exactly what we need for our correlation coefficient map, that persists of the correlation coefficient at each grid point! We simply need to iterate over all latitudes and longitudes in a nested for loop and compute the correlation coeffiecient with `np.corrcoef(X,Y)` for each grid point. See the explanations underneath each line:"
   ]
  },
  {
   "cell_type": "code",
   "execution_count": null,
   "metadata": {},
   "outputs": [],
   "source": [
    "# first, we make an empty array that we will fill with the correlation coefficients of each grid point\n",
    "cor_map = geop_djf[0,:,:] * 0.\n",
    "# for loops over lats and lons\n",
    "for j in np.arange(len(geop_djf.latitude)):\n",
    "#len(geop_djf.latitude) returns the lengts of the latitude coordinate. np.arange(-\"-) therefore creates an array \n",
    "#starting from 0 to len(geop_djf.latitude) --> those are the indexes we iterate with!\n",
    "    for i in np.arange(len(geop_djf.longitude)):\n",
    "        cor_map.values[j, i] = np.corrcoef(geop_djf.values[:, j, i], iceland.values)[0, 1]\n",
    "        # for every lat, lon combination (j,i) we compute the np.corrcoef and safe it to the respective j,i matrix entry\n",
    "        # of the predefined cor_map\n",
    "        # geop_djf.values[:,j,i] selects all values in time, but only the latitude and longitude that we are dealing\n",
    "        # with in this iteration (j,i)\n",
    "        # iceland only has one lat and lon, so nothing needs to be selected\n",
    "        # we use the .values attribute because this is much faster"
   ]
  },
  {
   "cell_type": "markdown",
   "metadata": {},
   "source": [
    "Let's have a look if the just created `cor_map` looks as expected:\n"
   ]
  },
  {
   "cell_type": "code",
   "execution_count": null,
   "metadata": {},
   "outputs": [],
   "source": [
    "cor_map"
   ]
  },
  {
   "cell_type": "markdown",
   "metadata": {},
   "source": [
    "Now, we can plot the result of the correlation: the correlation coefficient! To get a nicer view on the northern hemisphere, we select a different projection, the North Polar Stereo Projection. "
   ]
  },
  {
   "cell_type": "code",
   "execution_count": null,
   "metadata": {},
   "outputs": [],
   "source": [
    "fig = plt.figure(figsize=(9, 7))\n",
    "ax = plt.axes(projection=ccrs.NorthPolarStereo()) \n",
    "ax.set_extent([-180, 180, 20, 90], ccrs.PlateCarree())\n",
    "ax.coastlines(); ax.gridlines();\n",
    "cs = cor_map.plot.contourf(ax=ax, transform=ccrs.PlateCarree(), cbar_kwargs={'label':'Correlation Coefficient'}, \n",
    "                           levels=np.linspace(-0.8, 0.8, 9), extend='both')\n",
    "plt.title('One point correlation map (ref 65°N, 30°W)');"
   ]
  },
  {
   "cell_type": "markdown",
   "metadata": {},
   "source": [
    "If you want, you can also make a circular plot instead of the quadratic one. First, you'll have to run these few lines (only once for the notebook!):"
   ]
  },
  {
   "cell_type": "code",
   "execution_count": null,
   "metadata": {},
   "outputs": [],
   "source": [
    "import matplotlib.path as mpath\n",
    "theta = np.linspace(0, 2*np.pi, 100)\n",
    "map_circle = mpath.Path(np.vstack([np.sin(theta), np.cos(theta)]).T * 0.5 + [0.5, 0.5])"
   ]
  },
  {
   "cell_type": "markdown",
   "metadata": {},
   "source": [
    "And then add one line to the plot commands:"
   ]
  },
  {
   "cell_type": "code",
   "execution_count": null,
   "metadata": {
    "scrolled": true
   },
   "outputs": [],
   "source": [
    "fig = plt.figure(figsize=(9, 7))\n",
    "ax = plt.axes(projection=ccrs.NorthPolarStereo()) \n",
    "ax.set_boundary(map_circle, transform=ax.transAxes) #this is the only new line, the rest did not change\n",
    "ax.set_extent([-180, 180, 20, 90], ccrs.PlateCarree())\n",
    "ax.coastlines(); ax.gridlines();\n",
    "cs = cor_map.plot.contourf(ax=ax, transform=ccrs.PlateCarree(), cbar_kwargs={'label':'Correlation Coefficient'}, \n",
    "                           levels=np.linspace(-0.8, 0.8, 9), extend='both')\n",
    "plt.title('One point correlation map (ref 65°N, 30°W)');"
   ]
  },
  {
   "cell_type": "markdown",
   "metadata": {},
   "source": [
    "## 07_02 Correlation Maps"
   ]
  },
  {
   "cell_type": "markdown",
   "metadata": {},
   "source": [
    "Another example of correlation maps would be to correlate to variables all over a certain area instead of one variable all over the area with the same variable at a certain location (one point correlationn maps).\n",
    "\n",
    "We try this with the NAO index and the temperatures over europe in the winter season. Therefore, we must first get the NAO index. ython makes it very easy to read data directly from a given url:"
   ]
  },
  {
   "cell_type": "code",
   "execution_count": null,
   "metadata": {},
   "outputs": [],
   "source": [
    "# import the modules we need\n",
    "import io, requests"
   ]
  },
  {
   "cell_type": "code",
   "execution_count": null,
   "metadata": {
    "scrolled": false
   },
   "outputs": [],
   "source": [
    "# This just reads the data from an url\n",
    "# data from http://www.cpc.ncep.noaa.gov/data/teledoc/nao.shtml\n",
    "url = 'http://ftp.cpc.ncep.noaa.gov/wd52dg/data/indices/nao_index.tim'\n",
    "s = requests.get(url).content\n",
    "df = pd.read_csv(io.StringIO(s.decode('utf-8')), delim_whitespace=True, skiprows=7)\n",
    "# Parse the time and convert to xarray\n",
    "time = pd.to_datetime(df.YEAR.astype(str) + '-' + df.MONTH.astype(str))\n",
    "nao = xr.DataArray(df.INDEX, dims='time', coords={'time':time})\n",
    "# Select the ERA period\n",
    "nao = nao.sel(time=slice('1979', '2014'))"
   ]
  },
  {
   "cell_type": "markdown",
   "metadata": {},
   "source": [
    "See what we got:\n"
   ]
  },
  {
   "cell_type": "code",
   "execution_count": null,
   "metadata": {},
   "outputs": [],
   "source": [
    "nao"
   ]
  },
  {
   "cell_type": "code",
   "execution_count": null,
   "metadata": {
    "scrolled": true
   },
   "outputs": [],
   "source": [
    "nao.plot()\n",
    "plt.axhline(0, color = 'k');\n",
    "plt.ylabel('NAO Index');\n",
    "plt.xlim(['1979-01-01', '2014-12-01']);"
   ]
  },
  {
   "cell_type": "markdown",
   "metadata": {},
   "source": [
    "To be able to create a scatter plot, we can now have a look the NAO index versus the temperatures over norway!\n",
    "Load the temperature dataset, select and average over a part norway and take the winter season again:"
   ]
  },
  {
   "cell_type": "code",
   "execution_count": null,
   "metadata": {
    "scrolled": true
   },
   "outputs": [],
   "source": [
    "t2m = xr.open_dataset('./data/ERA5--LowRes-MonthlyAvg-t2m_tp.nc').t2m.sel(time = slice('1979','2014'))\n",
    "t2m_nor = t2m.sel(latitude = slice(63,60), longitude = slice(8.5,10.5)).mean(dim = ['latitude', 'longitude']) - 273.15\n",
    "t2m_nor"
   ]
  },
  {
   "cell_type": "code",
   "execution_count": null,
   "metadata": {},
   "outputs": [],
   "source": [
    "t2m_nor = t2m_nor.where(t2m_nor['time.season'] == 'DJF') #select winter season since correlation is strongest here\n",
    "t2m_nor = t2m_nor.groupby('time.year').mean('time') #average over the year (over each season)\n",
    "\n",
    "nao = nao.where(nao['time.season'] == 'DJF') \n",
    "nao = nao.groupby('time.year').mean('time') "
   ]
  },
  {
   "cell_type": "markdown",
   "metadata": {},
   "source": [
    "Let's have a look at the scatter plot to get a first idea of the correlation:"
   ]
  },
  {
   "cell_type": "code",
   "execution_count": null,
   "metadata": {},
   "outputs": [],
   "source": [
    "plt.scatter(nao, t2m_nor)\n",
    "plt.xlabel('NAO Index');\n",
    "plt.ylabel('Temperature over Norway [°C]');\n",
    "plt.title('Positive Correlation')\n",
    "plt.xlim([-1.2,1.0]);"
   ]
  },
  {
   "cell_type": "markdown",
   "metadata": {},
   "source": [
    "Now, we want to create a map of europe with the correlation values of NAO Index with temperatures.\n",
    "In order to do that, we need a for loop again. "
   ]
  },
  {
   "cell_type": "code",
   "execution_count": null,
   "metadata": {},
   "outputs": [],
   "source": [
    "t2m = t2m.where(t2m['time.season'] == 'DJF') #select winter season since correlation is strongest here\n",
    "t2m = t2m.groupby('time.year').mean('time') #average over the year (over each season)"
   ]
  },
  {
   "cell_type": "code",
   "execution_count": null,
   "metadata": {},
   "outputs": [],
   "source": [
    "# first, we make an empty array that we will fill with the correlation coefficients of each grid point\n",
    "cor_map = t2m[0,:,:] * 0.\n",
    "# for loops over lats and lons\n",
    "for j in np.arange(len(t2m.latitude)):\n",
    "    for i in np.arange(len(t2m.longitude)):\n",
    "        cor_map.values[j, i] = np.corrcoef(t2m.values[:, j, i], nao.values)[0, 1]"
   ]
  },
  {
   "cell_type": "code",
   "execution_count": null,
   "metadata": {},
   "outputs": [],
   "source": [
    "fig = plt.figure(figsize=(9, 7))\n",
    "ax = plt.axes(projection=ccrs.EuroPP()) # take the projection for europe \n",
    "ax.coastlines(); ax.gridlines();\n",
    "cs = cor_map.plot.contourf(ax=ax, transform=ccrs.PlateCarree(), cbar_kwargs={'label':'Correlation Coefficient'}, \n",
    "                           levels=np.linspace(-0.8, 0.8, 9), extend='both')\n",
    "plt.title('Correlation map DJF NAO Index and Temperature');"
   ]
  },
  {
   "cell_type": "markdown",
   "metadata": {},
   "source": [
    "As already expected when trying to understand the plots from Wanner, H., Brönnimann, S., Casty, C., et al. (2001) at the very beginning of this chapter, NAO and temperatures over northern europe are highly positive correlated. This means, NAO+ causes the temperatures over northern europe to be higher than the mean."
   ]
  }
 ],
 "metadata": {
  "kernelspec": {
   "display_name": "Python 3",
   "language": "python",
   "name": "python3"
  },
  "language_info": {
   "codemirror_mode": {
    "name": "ipython",
    "version": 3
   },
   "file_extension": ".py",
   "mimetype": "text/x-python",
   "name": "python",
   "nbconvert_exporter": "python",
   "pygments_lexer": "ipython3",
   "version": "3.6.6"
  }
 },
 "nbformat": 4,
 "nbformat_minor": 2
}
